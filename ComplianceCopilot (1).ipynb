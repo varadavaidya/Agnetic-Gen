{
 "cells": [
  {
   "cell_type": "code",
   "execution_count": null,
   "id": "b3691ad5-63b0-48de-a872-a1843915f606",
   "metadata": {},
   "outputs": [],
   "source": [
    "import json\n",
    "import os\n",
    "from openai import OpenAI\n",
    "client = OpenAI(api_key=os.getenv(\"OPENAI_API_KEY\"))"
   ]
  },
  {
   "cell_type": "markdown",
   "id": "c15c9b50-e028-4461-8a67-5ebfb0e67629",
   "metadata": {},
   "source": [
    "##### referencing the json file"
   ]
  },
  {
   "cell_type": "code",
   "execution_count": null,
   "id": "29c0c4b8-3fe2-49ba-a593-f5898d0c57f0",
   "metadata": {},
   "outputs": [],
   "source": [
    "with open(\"json file path\") as f:\n",
    "    idv_json = json.load(f)"
   ]
  },
  {
   "cell_type": "markdown",
   "id": "59a86034-4e73-434d-ae99-beec8854eb18",
   "metadata": {},
   "source": [
    "##### the system prompt is written in that style using Chain of Thought strategy also One shot with an example given as part of problem statement"
   ]
  },
  {
   "cell_type": "code",
   "execution_count": 10,
   "id": "dac572a4-50c0-4392-b71f-382178a4980f",
   "metadata": {},
   "outputs": [],
   "source": [
    "system_prompt = \"\"\"\n",
    "You are an intelligent Compliance assistant built to analyze a structured Identification Verification data.\n",
    "Your role is to help end-users or support teams understand WHY their document verification passed or failed, and WHAT THEY SHOULD DO NEXT to fix any issues.\n",
    "\n",
    "You are given a structured JSON input that may include the following fields:\n",
    "- `document_type`: the type of ID document \n",
    "- `fields`: extracted data like name, date of birth, aadhaar number with confidence scores\n",
    "- `face_match`: contains similarity scores comparing the user's selfie and ID photo\n",
    "- `forgery_checks`: includes flags like glare, tampering, or template mismatches\n",
    "- `compliance_checks`: includes results like age_check, masking_check, face_match_threshold\n",
    "- `integrity_issues`: quality issues like cropping or low resolution\n",
    "\n",
    "You have to:\n",
    "1. Determine if the user passed or failed verification.\n",
    "2. If failed, clearly explain all the specific reasons why.\n",
    "   - Be accurate and structured.\n",
    "   - Use the field names from the JSON but convert them into natural language.\n",
    "3. Give helpful, specific, and actionable suggestions** for how the user can fix the problem.\n",
    "   - Do not give generic advice. Tailor it to the actual issue.\n",
    "   - Be polite and reassuring.\n",
    "4. Respond in the same language as the `language_hint` field (default to English if not provided).\n",
    "5. Do not output JSON or code — respond in natural language only.\n",
    "6. Format your response into two sections:\n",
    "   - Reasons for Failure\n",
    "   - Recommended Actions\n",
    "\n",
    "If everything is correct , respond that verification is successful and no action is needed.\n",
    "\n",
    "understand the example below and try to resond in similar fashion:\n",
    "\n",
    "for a json input such as this --\n",
    "{\n",
    "  \"document_type\": \"AADHAAR_FRONT\",\n",
    "  \"fields\": {\n",
    "    \"name\": { \"value\": \"RAHUL SHARMA\", \"confidence\": 0.67 },\n",
    "    \"dob\": { \"value\": \"2005-01-15\", \"confidence\": 0.89 },\n",
    "    \"aadhaar_number\": { \"masked\": false }\n",
    "  },\n",
    "  \"face_match\": {\n",
    "    \"selfie_image_score\": 0.82,\n",
    "    \"id_photo_score\": 0.44,\n",
    "    \"similarity_score\": 0.39\n",
    "  },\n",
    "  \"forgery_checks\": {\n",
    "    \"template_match\": false,\n",
    "    \"glare_detected\": true,\n",
    "    \"tampering_signals\": [\"edge_noise\", \"misalignment\"]\n",
    "  },\n",
    "  \"compliance_checks\": {\n",
    "    \"age_check\": \"FAILED\",\n",
    "    \"aadhaar_masking\": \"FAILED\",\n",
    "    \"face_match_threshold\": \"FAILED\"\n",
    "  },\n",
    "  \"integrity_issues\": [\"partial crop\", \"low resolution\"],\n",
    "  \"language_hint\": \"en\"\n",
    "}\n",
    "\n",
    "return something like:  \n",
    "\n",
    "Your Aadhaar verification failed due to multiple reasons:\n",
    "- The Aadhaar number appears unmasked, which violates compliance norms.\n",
    "- The system couldn't confirm that the selfie matches the photo on the Aadhaar card.\n",
    "- The document seems to be partially cropped and of low quality.\n",
    "- You must be 18 years or older for verification, but your age seems to be under 18.\n",
    "Please upload a clear, unedited Aadhaar image with proper masking, and ensure a well-lit selfie with your face clearly visible.\n",
    "\n",
    "\"\"\""
   ]
  },
  {
   "cell_type": "code",
   "execution_count": null,
   "id": "0879a876-eb37-4d2e-97a3-048a353e8af5",
   "metadata": {},
   "outputs": [],
   "source": [
    "\n",
    "user_prompt = f\"\"\"\n",
    "Below is a structured JSON result from Digio's Full IDV pipeline.\n",
    "\n",
    "Please analyze it and generate a user-friendly explanation:\n",
    "- State if verification passed or failed.\n",
    "- If failed, explain all the reasons clearly.\n",
    "- Suggest what the user should do to fix each issue.\n",
    "\n",
    "JSON Input:\n",
    "```json\n",
    "{json.dumps(idv_json, indent=2)} ``` \"\"\""
   ]
  },
  {
   "cell_type": "markdown",
   "id": "6fec25b5-ede9-4f26-900c-4b8cf672692b",
   "metadata": {},
   "source": [
    "#### guided by [[link]](https://platform.openai.com/docs/guides/responses-vs-chat-completions?api-mode=responses)"
   ]
  },
  {
   "cell_type": "code",
   "execution_count": 27,
   "id": "6ff63e9c-895f-4538-acf4-37790a6f4309",
   "metadata": {},
   "outputs": [],
   "source": [
    "def query_llm(system_prompt, user_prompt, model=\"gpt-4o\"):\n",
    "    response = client.chat.completions.create(\n",
    "        model=model,\n",
    "        messages=[\n",
    "            {\"role\": \"system\", \"content\": system_prompt},\n",
    "            {\"role\": \"user\", \"content\": user_prompt}\n",
    "        ],\n",
    "        temperature=0.3\n",
    "    )\n",
    "    return response.choices[0].message.content\n"
   ]
  },
  {
   "cell_type": "code",
   "execution_count": null,
   "id": "8d04c5f9-723d-47f6-987a-aa059030a164",
   "metadata": {},
   "outputs": [],
   "source": [
    "result = query_llm(system_prompt,user_prompt)\n",
    "print(result)"
   ]
  },
  {
   "cell_type": "code",
   "execution_count": null,
   "id": "7471d750-4de6-4736-b7f9-344a84317f28",
   "metadata": {},
   "outputs": [],
   "source": []
  }
 ],
 "metadata": {
  "kernelspec": {
   "display_name": "Python 3 (ipykernel)",
   "language": "python",
   "name": "python3"
  },
  "language_info": {
   "codemirror_mode": {
    "name": "ipython",
    "version": 3
   },
   "file_extension": ".py",
   "mimetype": "text/x-python",
   "name": "python",
   "nbconvert_exporter": "python",
   "pygments_lexer": "ipython3",
   "version": "3.10.9"
  }
 },
 "nbformat": 4,
 "nbformat_minor": 5
}
