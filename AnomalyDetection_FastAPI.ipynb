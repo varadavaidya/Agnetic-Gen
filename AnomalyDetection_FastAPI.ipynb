{
 "cells": [
  {
   "cell_type": "code",
   "execution_count": 3,
   "id": "616070da-33e1-4981-a0f7-f91449643ab2",
   "metadata": {},
   "outputs": [
    {
     "name": "stdout",
     "output_type": "stream",
     "text": [
      " traffic.csv created with 1000 fake records.\n"
     ]
    }
   ],
   "source": [
    "import pandas as pd\n",
    "import numpy as np\n",
    "import random\n",
    "from faker import Faker\n",
    "\n",
    "fake = Faker()\n",
    "np.random.seed(42)\n",
    "\n",
    "def generate_ip():\n",
    "    return \".\".join(str(random.randint(1, 255)) for _ in range(4))\n",
    "\n",
    "def generate_data(n=1000):\n",
    "    data = []\n",
    "    for _ in range(n):\n",
    "        ip = generate_ip()\n",
    "        user_agent = fake.user_agent()\n",
    "        time_on_site = np.abs(np.random.normal(60, 30))  # in seconds\n",
    "        num_requests = np.abs(int(np.random.normal(20, 10)))\n",
    "        data.append([ip, user_agent, time_on_site, num_requests])\n",
    "    return pd.DataFrame(data, columns=[\"ip\", \"user_agent\", \"time_on_site\", \"num_requests\"])\n",
    "\n",
    "# Generate and save data\n",
    "df = generate_data()\n",
    "df.to_csv(r\"C:\\Users\\varad\\mile-mlops-anomaly-detector\\data/traffic.csv\", index=False)\n",
    "print(\" traffic.csv created with 1000 fake records.\")\n"
   ]
  },
  {
   "cell_type": "code",
   "execution_count": 6,
   "id": "98653d36-d5e2-4386-908b-baf0f9228d3b",
   "metadata": {},
   "outputs": [
    {
     "name": "stdout",
     "output_type": "stream",
     "text": [
      "✅ Model trained and saved as models/isolation_forest.pkl\n"
     ]
    }
   ],
   "source": [
    "import pandas as pd\n",
    "from sklearn.ensemble import IsolationForest\n",
    "import joblib\n",
    "\n",
    "# Step 1: Load data\n",
    "df = pd.read_csv(r\"C:\\Users\\varad\\mile-mlops-anomaly-detector\\data/traffic.csv\")\n",
    "\n",
    "# Step 2: Select relevant features\n",
    "X = df[[\"time_on_site\", \"num_requests\"]]\n",
    "\n",
    "# Step 3: Train Isolation Forest\n",
    "model = IsolationForest(contamination=0.1, random_state=42)\n",
    "model.fit(X)\n",
    "\n",
    "# Step 4: Save the model\n",
    "joblib.dump(model, r\"C:\\Users\\varad\\mile-mlops-anomaly-detector\\models/isolation_forest.pkl\")\n",
    "\n",
    "print(\"✅ Model trained and saved as models/isolation_forest.pkl\")\n"
   ]
  },
  {
   "cell_type": "code",
   "execution_count": 42,
   "id": "2379414d-1dc1-4cea-86ab-7f694e5a502d",
   "metadata": {},
   "outputs": [
    {
     "name": "stdout",
     "output_type": "stream",
     "text": [
      "✅ app.py successfully created at:\n",
      "C:\\Users\\varad\\mile-mlops-anomaly-detector\\app.py\n"
     ]
    }
   ],
   "source": [
    "# Define the FastAPI app code\n",
    "code = r\"\"\"\n",
    "from fastapi import FastAPI\n",
    "from pydantic import BaseModel\n",
    "import joblib\n",
    "import numpy as np\n",
    "import csv\n",
    "from datetime import datetime\n",
    "import os\n",
    "\n",
    "app = FastAPI()\n",
    "\n",
    "model = joblib.load(r\"C:\\Users\\varad\\mile-mlops-anomaly-detector\\models/isolation_forest.pkl\")\n",
    "\n",
    "# Define input schema\n",
    "class InputData(BaseModel):\n",
    "    feature1: float\n",
    "    feature2: float\n",
    "\n",
    "# Log file path\n",
    "LOG_FILE = \"predictions_log.csv\"\n",
    "\n",
    "# Create file with header if it doesn't exist\n",
    "if not os.path.exists(LOG_FILE):\n",
    "    with open(LOG_FILE, mode='w', newline='') as file:\n",
    "        writer = csv.writer(file)\n",
    "        writer.writerow([\"timestamp\", \"feature1\", \"feature2\", \"prediction\"])\n",
    "\n",
    "@app.post(\"/predict\")\n",
    "def predict(data: InputData):\n",
    "    # Prepare input\n",
    "    features = np.array([[data.feature1, data.feature2]])\n",
    "    prediction = model.predict(features)[0]\n",
    "    label = \"Anomaly\" if prediction == -1 else \"Normal\"\n",
    "\n",
    "    # Log input and prediction\n",
    "    with open(LOG_FILE, mode='a', newline='') as file:\n",
    "        writer = csv.writer(file)\n",
    "        writer.writerow([datetime.now(), data.feature1, data.feature2, label])\n",
    "\n",
    "    return {\"prediction\": label}\n",
    "\n",
    "\"\"\"\n",
    "\n",
    "# Save to your specific path\n",
    "save_path = r\"C:\\Users\\varad\\mile-mlops-anomaly-detector\\app.py\"\n",
    "with open(save_path, \"w\") as f:\n",
    "    f.write(code)\n",
    "\n",
    "print(f\"✅ app.py successfully created at:\\n{save_path}\")\n"
   ]
  },
  {
   "cell_type": "code",
   "execution_count": 43,
   "id": "ebb4a87c-0cce-49b6-8344-9c9bc6a0ab6a",
   "metadata": {},
   "outputs": [
    {
     "name": "stdout",
     "output_type": "stream",
     "text": [
      "✅ app.py successfully created at:\n",
      "C:\\Users\\varad\\mile-mlops-anomaly-detector\\app.py\n"
     ]
    }
   ],
   "source": [
    "# Save to desired path\n",
    "save_path = r\"C:\\Users\\varad\\mile-mlops-anomaly-detector\\app.py\"\n",
    "with open(save_path, \"w\") as f:\n",
    "    f.write(code)\n",
    "\n",
    "print(f\"✅ app.py successfully created at:\\n{save_path}\")"
   ]
  },
  {
   "cell_type": "code",
   "execution_count": 44,
   "id": "5b04a6d3-3af8-4672-83cf-252eeafd479c",
   "metadata": {},
   "outputs": [
    {
     "name": "stdout",
     "output_type": "stream",
     "text": [
      "✅ model.pkl loaded\n",
      "Expected input shape: 2\n"
     ]
    }
   ],
   "source": [
    "import joblib\n",
    "model = joblib.load(r\"C:\\Users\\varad\\mile-mlops-anomaly-detector\\models/isolation_forest.pkl\")\n",
    "print(\"✅ model.pkl loaded\")\n",
    "print(\"Expected input shape:\", model.n_features_in_)\n"
   ]
  },
  {
   "cell_type": "code",
   "execution_count": null,
   "id": "847d5f1e-2202-428c-b80e-902d8519b18d",
   "metadata": {},
   "outputs": [],
   "source": []
  }
 ],
 "metadata": {
  "kernelspec": {
   "display_name": "Python 3 (ipykernel)",
   "language": "python",
   "name": "python3"
  },
  "language_info": {
   "codemirror_mode": {
    "name": "ipython",
    "version": 3
   },
   "file_extension": ".py",
   "mimetype": "text/x-python",
   "name": "python",
   "nbconvert_exporter": "python",
   "pygments_lexer": "ipython3",
   "version": "3.10.9"
  }
 },
 "nbformat": 4,
 "nbformat_minor": 5
}
